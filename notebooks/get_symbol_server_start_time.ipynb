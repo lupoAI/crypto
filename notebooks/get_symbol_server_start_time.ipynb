{
 "cells": [
  {
   "cell_type": "code",
   "execution_count": 1,
   "id": "f196cf2a-4898-4969-9970-374d79e32b69",
   "metadata": {},
   "outputs": [
    {
     "ename": "ModuleNotFoundError",
     "evalue": "No module named 'constants'",
     "output_type": "error",
     "traceback": [
      "\u001b[1;31m---------------------------------------------------------------------------\u001b[0m",
      "\u001b[1;31mModuleNotFoundError\u001b[0m                       Traceback (most recent call last)",
      "\u001b[1;32m~\\AppData\\Local\\Temp/ipykernel_25292/3606426774.py\u001b[0m in \u001b[0;36m<module>\u001b[1;34m\u001b[0m\n\u001b[0;32m      5\u001b[0m \u001b[1;32mimport\u001b[0m \u001b[0mtime\u001b[0m\u001b[1;33m\u001b[0m\u001b[1;33m\u001b[0m\u001b[0m\n\u001b[0;32m      6\u001b[0m \u001b[0mos\u001b[0m\u001b[1;33m.\u001b[0m\u001b[0mchdir\u001b[0m\u001b[1;33m(\u001b[0m\u001b[0mos\u001b[0m\u001b[1;33m.\u001b[0m\u001b[0mpath\u001b[0m\u001b[1;33m.\u001b[0m\u001b[0mjoin\u001b[0m\u001b[1;33m(\u001b[0m\u001b[0mos\u001b[0m\u001b[1;33m.\u001b[0m\u001b[0mgetcwd\u001b[0m\u001b[1;33m(\u001b[0m\u001b[1;33m)\u001b[0m\u001b[1;33m,\u001b[0m \u001b[1;34m\"..\"\u001b[0m\u001b[1;33m)\u001b[0m\u001b[1;33m)\u001b[0m\u001b[1;33m\u001b[0m\u001b[1;33m\u001b[0m\u001b[0m\n\u001b[1;32m----> 7\u001b[1;33m \u001b[1;32mfrom\u001b[0m \u001b[0mdata_analysis\u001b[0m\u001b[1;33m.\u001b[0m\u001b[0mdata_getter\u001b[0m \u001b[1;32mimport\u001b[0m \u001b[0mDataGetter\u001b[0m\u001b[1;33m,\u001b[0m \u001b[0mVALID_INTERVALS\u001b[0m\u001b[1;33m,\u001b[0m \u001b[0mVALID_INTERVALS_TO_TIME\u001b[0m\u001b[1;33m\u001b[0m\u001b[1;33m\u001b[0m\u001b[0m\n\u001b[0m",
      "\u001b[1;32m~\\PycharmProjects\\crypto\\data_analysis\\data_getter.py\u001b[0m in \u001b[0;36m<module>\u001b[1;34m\u001b[0m\n\u001b[0;32m     11\u001b[0m \u001b[1;32mfrom\u001b[0m \u001b[0mtqdm\u001b[0m \u001b[1;32mimport\u001b[0m \u001b[0mtqdm\u001b[0m\u001b[1;33m\u001b[0m\u001b[1;33m\u001b[0m\u001b[0m\n\u001b[0;32m     12\u001b[0m \u001b[1;33m\u001b[0m\u001b[0m\n\u001b[1;32m---> 13\u001b[1;33m \u001b[1;32mfrom\u001b[0m \u001b[0mconstants\u001b[0m \u001b[1;32mimport\u001b[0m \u001b[0mVALID_INTERVALS\u001b[0m\u001b[1;33m,\u001b[0m \u001b[0mVALID_INTERVALS_TO_TIME\u001b[0m\u001b[1;33m,\u001b[0m \u001b[0mCANDLES_HEADERS\u001b[0m\u001b[1;33m\u001b[0m\u001b[1;33m\u001b[0m\u001b[0m\n\u001b[0m\u001b[0;32m     14\u001b[0m \u001b[1;33m\u001b[0m\u001b[0m\n\u001b[0;32m     15\u001b[0m \u001b[0mBASE\u001b[0m \u001b[1;33m=\u001b[0m \u001b[1;34m\"https://api.binance.com\"\u001b[0m\u001b[1;33m\u001b[0m\u001b[1;33m\u001b[0m\u001b[0m\n",
      "\u001b[1;31mModuleNotFoundError\u001b[0m: No module named 'constants'"
     ]
    }
   ],
   "source": [
    "import os\n",
    "import pandas as pd\n",
    "import numpy as np\n",
    "from tqdm import tqdm\n",
    "import time \n",
    "os.chdir(os.path.join(os.getcwd(), \"..\"))\n",
    "from data_analysis.data_getter import DataGetter, VALID_INTERVALS, VALID_INTERVALS_TO_TIME"
   ]
  },
  {
   "cell_type": "code",
   "execution_count": null,
   "id": "4f10f87b-6c5b-4a8d-99b7-b2778dc57409",
   "metadata": {},
   "outputs": [],
   "source": [
    "exchange_info = pd.read_csv(\"G:\\crypto\\data\\exchange\\exchangeInfo.csv\", index_col=0)\n",
    "exchange_info = exchange_info.set_index(\"symbol\")\n",
    "exchange_info.head()"
   ]
  },
  {
   "cell_type": "code",
   "execution_count": null,
   "id": "f8aaacb2-96ce-4f00-930b-38398dcab721",
   "metadata": {},
   "outputs": [],
   "source": [
    "exchange_info['serverStartTime'] = np.nan"
   ]
  },
  {
   "cell_type": "code",
   "execution_count": null,
   "id": "ab26ab20-4aa5-4aba-b426-5299945ca98e",
   "metadata": {},
   "outputs": [],
   "source": [
    "interval = \"1w\"\n",
    "interval_time = VALID_INTERVALS_TO_TIME[interval]\n",
    "limit = 1000\n",
    "end_time = int(time.time() * 1000) - 1\n",
    "start_time = end_time - limit * interval_time + 1"
   ]
  },
  {
   "cell_type": "code",
   "execution_count": null,
   "id": "330bf692-7035-4fde-b3b4-ad5a17051f8f",
   "metadata": {},
   "outputs": [],
   "source": [
    "end_time"
   ]
  },
  {
   "cell_type": "code",
   "execution_count": null,
   "id": "67208c29-6abb-4813-9dad-68bcef1d789b",
   "metadata": {},
   "outputs": [],
   "source": [
    "exchange_info.index[110]"
   ]
  },
  {
   "cell_type": "code",
   "execution_count": null,
   "id": "2e423885-f7a4-42f0-9ee6-a10810c5021b",
   "metadata": {},
   "outputs": [],
   "source": [
    "base_save_path = r\"G:\\crypto\\data\\symbols\"\n",
    "for sym in tqdm(exchange_info.index):\n",
    "    time.sleep(0.5)\n",
    "    sym_dt = DataGetter(sym, pandas=True, base_save_path=base_save_path)\n",
    "    # try:\n",
    "    sym_candles = sym_dt.get_candles(interval, start_time, end_time, limit)\n",
    "    exchange_info.loc[sym, 'serverStartTime'] = sym_candles.loc[0,0]\n",
    "    # except:\n",
    "    #     continue\n",
    "    "
   ]
  },
  {
   "cell_type": "code",
   "execution_count": null,
   "id": "9d04de8c-2f2e-4c3e-b4bf-76b469509218",
   "metadata": {},
   "outputs": [],
   "source": [
    "exchange_info.to_csv(\"G:\\crypto\\data\\exchange\\exchangeInfoAugmented.csv\")"
   ]
  },
  {
   "cell_type": "code",
   "execution_count": null,
   "id": "3d51cb5c-1c9a-406c-ad7a-79eb1274aef7",
   "metadata": {
    "collapsed": true
   },
   "outputs": [],
   "source": [
    "exchange_info"
   ]
  }
 ],
 "metadata": {
  "kernelspec": {
   "display_name": "Python 3 (ipykernel)",
   "language": "python",
   "name": "python3"
  },
  "language_info": {
   "codemirror_mode": {
    "name": "ipython",
    "version": 3
   },
   "file_extension": ".py",
   "mimetype": "text/x-python",
   "name": "python",
   "nbconvert_exporter": "python",
   "pygments_lexer": "ipython3",
   "version": "3.9.5"
  }
 },
 "nbformat": 4,
 "nbformat_minor": 5
}
