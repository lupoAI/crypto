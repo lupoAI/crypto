{
 "cells": [
  {
   "cell_type": "code",
   "execution_count": 1,
   "id": "ef4ee6ef-216d-4c1b-a0d5-d0961b0d0768",
   "metadata": {},
   "outputs": [],
   "source": [
    "import numpy as np\n",
    "import pandas as pd\n",
    "import json"
   ]
  },
  {
   "cell_type": "code",
   "execution_count": 2,
   "id": "a0569542-33c3-49a6-814b-655670f6ce62",
   "metadata": {},
   "outputs": [
    {
     "data": {
      "text/html": [
       "<div>\n",
       "<style scoped>\n",
       "    .dataframe tbody tr th:only-of-type {\n",
       "        vertical-align: middle;\n",
       "    }\n",
       "\n",
       "    .dataframe tbody tr th {\n",
       "        vertical-align: top;\n",
       "    }\n",
       "\n",
       "    .dataframe thead th {\n",
       "        text-align: right;\n",
       "    }\n",
       "</style>\n",
       "<table border=\"1\" class=\"dataframe\">\n",
       "  <thead>\n",
       "    <tr style=\"text-align: right;\">\n",
       "      <th></th>\n",
       "      <th>symbol</th>\n",
       "      <th>status</th>\n",
       "      <th>baseAsset</th>\n",
       "      <th>baseAssetPrecision</th>\n",
       "      <th>quoteAsset</th>\n",
       "      <th>quotePrecision</th>\n",
       "      <th>quoteAssetPrecision</th>\n",
       "      <th>baseCommissionPrecision</th>\n",
       "      <th>quoteCommissionPrecision</th>\n",
       "      <th>orderTypes</th>\n",
       "      <th>icebergAllowed</th>\n",
       "      <th>ocoAllowed</th>\n",
       "      <th>quoteOrderQtyMarketAllowed</th>\n",
       "      <th>isSpotTradingAllowed</th>\n",
       "      <th>isMarginTradingAllowed</th>\n",
       "      <th>filters</th>\n",
       "      <th>permissions</th>\n",
       "    </tr>\n",
       "  </thead>\n",
       "  <tbody>\n",
       "    <tr>\n",
       "      <th>0</th>\n",
       "      <td>ETHBTC</td>\n",
       "      <td>TRADING</td>\n",
       "      <td>ETH</td>\n",
       "      <td>8</td>\n",
       "      <td>BTC</td>\n",
       "      <td>8</td>\n",
       "      <td>8</td>\n",
       "      <td>8</td>\n",
       "      <td>8</td>\n",
       "      <td>['LIMIT', 'LIMIT_MAKER', 'MARKET', 'STOP_LOSS_...</td>\n",
       "      <td>True</td>\n",
       "      <td>True</td>\n",
       "      <td>True</td>\n",
       "      <td>True</td>\n",
       "      <td>True</td>\n",
       "      <td>[{'filterType': 'PRICE_FILTER', 'minPrice': '0...</td>\n",
       "      <td>['SPOT', 'MARGIN']</td>\n",
       "    </tr>\n",
       "    <tr>\n",
       "      <th>1</th>\n",
       "      <td>LTCBTC</td>\n",
       "      <td>TRADING</td>\n",
       "      <td>LTC</td>\n",
       "      <td>8</td>\n",
       "      <td>BTC</td>\n",
       "      <td>8</td>\n",
       "      <td>8</td>\n",
       "      <td>8</td>\n",
       "      <td>8</td>\n",
       "      <td>['LIMIT', 'LIMIT_MAKER', 'MARKET', 'STOP_LOSS_...</td>\n",
       "      <td>True</td>\n",
       "      <td>True</td>\n",
       "      <td>True</td>\n",
       "      <td>True</td>\n",
       "      <td>True</td>\n",
       "      <td>[{'filterType': 'PRICE_FILTER', 'minPrice': '0...</td>\n",
       "      <td>['SPOT', 'MARGIN']</td>\n",
       "    </tr>\n",
       "    <tr>\n",
       "      <th>2</th>\n",
       "      <td>BNBBTC</td>\n",
       "      <td>TRADING</td>\n",
       "      <td>BNB</td>\n",
       "      <td>8</td>\n",
       "      <td>BTC</td>\n",
       "      <td>8</td>\n",
       "      <td>8</td>\n",
       "      <td>8</td>\n",
       "      <td>8</td>\n",
       "      <td>['LIMIT', 'LIMIT_MAKER', 'MARKET', 'STOP_LOSS_...</td>\n",
       "      <td>True</td>\n",
       "      <td>True</td>\n",
       "      <td>True</td>\n",
       "      <td>True</td>\n",
       "      <td>True</td>\n",
       "      <td>[{'filterType': 'PRICE_FILTER', 'minPrice': '0...</td>\n",
       "      <td>['SPOT', 'MARGIN']</td>\n",
       "    </tr>\n",
       "    <tr>\n",
       "      <th>3</th>\n",
       "      <td>NEOBTC</td>\n",
       "      <td>TRADING</td>\n",
       "      <td>NEO</td>\n",
       "      <td>8</td>\n",
       "      <td>BTC</td>\n",
       "      <td>8</td>\n",
       "      <td>8</td>\n",
       "      <td>8</td>\n",
       "      <td>8</td>\n",
       "      <td>['LIMIT', 'LIMIT_MAKER', 'MARKET', 'STOP_LOSS_...</td>\n",
       "      <td>True</td>\n",
       "      <td>True</td>\n",
       "      <td>True</td>\n",
       "      <td>True</td>\n",
       "      <td>True</td>\n",
       "      <td>[{'filterType': 'PRICE_FILTER', 'minPrice': '0...</td>\n",
       "      <td>['SPOT', 'MARGIN']</td>\n",
       "    </tr>\n",
       "    <tr>\n",
       "      <th>4</th>\n",
       "      <td>QTUMETH</td>\n",
       "      <td>TRADING</td>\n",
       "      <td>QTUM</td>\n",
       "      <td>8</td>\n",
       "      <td>ETH</td>\n",
       "      <td>8</td>\n",
       "      <td>8</td>\n",
       "      <td>8</td>\n",
       "      <td>8</td>\n",
       "      <td>['LIMIT', 'LIMIT_MAKER', 'MARKET', 'STOP_LOSS_...</td>\n",
       "      <td>True</td>\n",
       "      <td>True</td>\n",
       "      <td>True</td>\n",
       "      <td>True</td>\n",
       "      <td>False</td>\n",
       "      <td>[{'filterType': 'PRICE_FILTER', 'minPrice': '0...</td>\n",
       "      <td>['SPOT']</td>\n",
       "    </tr>\n",
       "  </tbody>\n",
       "</table>\n",
       "</div>"
      ],
      "text/plain": [
       "    symbol   status baseAsset  baseAssetPrecision quoteAsset  quotePrecision  \\\n",
       "0   ETHBTC  TRADING       ETH                   8        BTC               8   \n",
       "1   LTCBTC  TRADING       LTC                   8        BTC               8   \n",
       "2   BNBBTC  TRADING       BNB                   8        BTC               8   \n",
       "3   NEOBTC  TRADING       NEO                   8        BTC               8   \n",
       "4  QTUMETH  TRADING      QTUM                   8        ETH               8   \n",
       "\n",
       "   quoteAssetPrecision  baseCommissionPrecision  quoteCommissionPrecision  \\\n",
       "0                    8                        8                         8   \n",
       "1                    8                        8                         8   \n",
       "2                    8                        8                         8   \n",
       "3                    8                        8                         8   \n",
       "4                    8                        8                         8   \n",
       "\n",
       "                                          orderTypes  icebergAllowed  \\\n",
       "0  ['LIMIT', 'LIMIT_MAKER', 'MARKET', 'STOP_LOSS_...            True   \n",
       "1  ['LIMIT', 'LIMIT_MAKER', 'MARKET', 'STOP_LOSS_...            True   \n",
       "2  ['LIMIT', 'LIMIT_MAKER', 'MARKET', 'STOP_LOSS_...            True   \n",
       "3  ['LIMIT', 'LIMIT_MAKER', 'MARKET', 'STOP_LOSS_...            True   \n",
       "4  ['LIMIT', 'LIMIT_MAKER', 'MARKET', 'STOP_LOSS_...            True   \n",
       "\n",
       "   ocoAllowed  quoteOrderQtyMarketAllowed  isSpotTradingAllowed  \\\n",
       "0        True                        True                  True   \n",
       "1        True                        True                  True   \n",
       "2        True                        True                  True   \n",
       "3        True                        True                  True   \n",
       "4        True                        True                  True   \n",
       "\n",
       "   isMarginTradingAllowed                                            filters  \\\n",
       "0                    True  [{'filterType': 'PRICE_FILTER', 'minPrice': '0...   \n",
       "1                    True  [{'filterType': 'PRICE_FILTER', 'minPrice': '0...   \n",
       "2                    True  [{'filterType': 'PRICE_FILTER', 'minPrice': '0...   \n",
       "3                    True  [{'filterType': 'PRICE_FILTER', 'minPrice': '0...   \n",
       "4                   False  [{'filterType': 'PRICE_FILTER', 'minPrice': '0...   \n",
       "\n",
       "          permissions  \n",
       "0  ['SPOT', 'MARGIN']  \n",
       "1  ['SPOT', 'MARGIN']  \n",
       "2  ['SPOT', 'MARGIN']  \n",
       "3  ['SPOT', 'MARGIN']  \n",
       "4            ['SPOT']  "
      ]
     },
     "execution_count": 2,
     "metadata": {},
     "output_type": "execute_result"
    }
   ],
   "source": [
    "exchange_info = pd.read_csv(\"../data/exchange/exchangeInfo.csv\", index_col=[0])\n",
    "exchange_info.head()"
   ]
  },
  {
   "cell_type": "code",
   "execution_count": 3,
   "id": "04061cb6-6c47-495e-a2f1-24490ba3a868",
   "metadata": {},
   "outputs": [
    {
     "data": {
      "text/plain": [
       "459"
      ]
     },
     "execution_count": 3,
     "metadata": {},
     "output_type": "execute_result"
    }
   ],
   "source": [
    "available_assets = np.unique(np.append(exchange_info.baseAsset.values, exchange_info.quoteAsset.values))\n",
    "len(available_assets)"
   ]
  },
  {
   "cell_type": "code",
   "execution_count": 4,
   "id": "6061b6ba-4c2e-4dc2-9a8c-a7d8f609995a",
   "metadata": {},
   "outputs": [],
   "source": [
    "json_data = {\"nodes\": [{\"id\": x, \"group\": 1} for x in available_assets],\n",
    "            \"links\": [{\"source\": row[\"quoteAsset\"], \"target\": row[\"baseAsset\"], \"value\": 1} for i, row in exchange_info.iterrows()]}\n"
   ]
  },
  {
   "cell_type": "code",
   "execution_count": 5,
   "id": "32213496-b2f2-4d45-a2d8-8b4c3897b9e7",
   "metadata": {},
   "outputs": [],
   "source": [
    "with open('../crypto_market_network/crypto_market.json', 'w') as f:\n",
    "    json.dump(json_data, f)"
   ]
  },
  {
   "cell_type": "code",
   "execution_count": 6,
   "id": "e4e9924d-3a93-42a7-9c11-aa5df921ee68",
   "metadata": {},
   "outputs": [],
   "source": [
    "crypto_graph = {k: set() for k in available_assets}\n",
    "for i, row in exchange_info.iterrows():\n",
    "    crypto_graph[row['quoteAsset']].add(row['baseAsset'])"
   ]
  },
  {
   "cell_type": "code",
   "execution_count": 10,
   "id": "e06cc8f8-dc61-489e-ab88-b690f2bee2d6",
   "metadata": {},
   "outputs": [],
   "source": [
    "arbitrage_paths = {}\n",
    "def find_arbitrage_paths(graph, start, current_path=[]):\n",
    "    global arbitrage_paths\n",
    "    if start not in arbitrage_paths:\n",
    "        arbitrage_paths[start] = []\n",
    "    \n",
    "    current_node = graph[start] if len(current_path)==0 else graph[current_path[-1]]\n",
    "    if len(current_node)==0:\n",
    "        return None\n",
    "    if start in current_node:\n",
    "        arbitrage_paths[start] += [current_path + [start]]\n",
    "        return None\n",
    "    for future_node in current_node:\n",
    "        if future_node not in current_path:\n",
    "            find_arbitrage_paths(graph, start, current_path + [future_node])\n",
    "    return None "
   ]
  },
  {
   "cell_type": "code",
   "execution_count": 14,
   "id": "c7c0e1b6-b4e4-4fa3-84db-4b0a2b32e2e7",
   "metadata": {},
   "outputs": [],
   "source": [
    "for coin in available_assets:\n",
    "    find_arbitrage_paths(crypto_graph, coin)\n",
    "    arbitrage_paths[coin] = sorted(arbitrage_paths[coin], key=len)"
   ]
  },
  {
   "cell_type": "code",
   "execution_count": 17,
   "id": "fa9e09f0-656f-4a02-9672-ca214d819694",
   "metadata": {},
   "outputs": [],
   "source": [
    "for coin in available_assets:\n",
    "    arbitrage_paths[coin] = sorted(arbitrage_paths[coin], key=len)"
   ]
  },
  {
   "cell_type": "code",
   "execution_count": 18,
   "id": "639c57e1-5099-4d58-81a3-db8aefc3a81f",
   "metadata": {},
   "outputs": [],
   "source": [
    "with open('../data/exchange/arbitrage_paths.json', 'w') as f:\n",
    "    json.dump(arbitrage_paths, f)"
   ]
  },
  {
   "cell_type": "code",
   "execution_count": 19,
   "id": "4a8b71b1-f52b-4615-802e-17022d7485fd",
   "metadata": {},
   "outputs": [
    {
     "data": {
      "text/plain": [
       "[['TUSD', 'BTC'],\n",
       " ['PAX', 'BTC'],\n",
       " ['DAI', 'BTC'],\n",
       " ['TUSD', 'BTC'],\n",
       " ['PAX', 'BTC'],\n",
       " ['DAI', 'BTC'],\n",
       " ['ETH', 'PAX', 'BTC'],\n",
       " ['ETH', 'TUSD', 'BTC'],\n",
       " ['BNB', 'PAX', 'BTC'],\n",
       " ['BNB', 'DAI', 'BTC'],\n",
       " ['BNB', 'TUSD', 'BTC'],\n",
       " ['BNB', 'USDC', 'BTC'],\n",
       " ['ETH', 'PAX', 'BTC'],\n",
       " ['ETH', 'TUSD', 'BTC'],\n",
       " ['BNB', 'PAX', 'BTC'],\n",
       " ['BNB', 'DAI', 'BTC'],\n",
       " ['BNB', 'TUSD', 'BTC'],\n",
       " ['BNB', 'USDC', 'BTC'],\n",
       " ['ETH', 'BNB', 'PAX', 'BTC'],\n",
       " ['ETH', 'BNB', 'DAI', 'BTC'],\n",
       " ['ETH', 'BNB', 'TUSD', 'BTC'],\n",
       " ['ETH', 'BNB', 'USDC', 'BTC'],\n",
       " ['ETH', 'BNB', 'PAX', 'BTC'],\n",
       " ['ETH', 'BNB', 'DAI', 'BTC'],\n",
       " ['ETH', 'BNB', 'TUSD', 'BTC'],\n",
       " ['ETH', 'BNB', 'USDC', 'BTC']]"
      ]
     },
     "execution_count": 19,
     "metadata": {},
     "output_type": "execute_result"
    }
   ],
   "source": [
    "arbitrage_paths['BTC']"
   ]
  }
 ],
 "metadata": {
  "kernelspec": {
   "display_name": "Python 3 (ipykernel)",
   "language": "python",
   "name": "python3"
  },
  "language_info": {
   "codemirror_mode": {
    "name": "ipython",
    "version": 3
   },
   "file_extension": ".py",
   "mimetype": "text/x-python",
   "name": "python",
   "nbconvert_exporter": "python",
   "pygments_lexer": "ipython3",
   "version": "3.9.5"
  }
 },
 "nbformat": 4,
 "nbformat_minor": 5
}
