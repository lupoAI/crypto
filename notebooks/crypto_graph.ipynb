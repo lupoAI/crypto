{
 "cells": [
  {
   "cell_type": "code",
   "execution_count": 3,
   "id": "ef4ee6ef-216d-4c1b-a0d5-d0961b0d0768",
   "metadata": {},
   "outputs": [],
   "source": [
    "import numpy as np\n",
    "import pandas as pd\n",
    "import json"
   ]
  },
  {
   "cell_type": "code",
   "execution_count": 4,
   "id": "a0569542-33c3-49a6-814b-655670f6ce62",
   "metadata": {},
   "outputs": [
    {
     "data": {
      "text/html": [
       "<div>\n",
       "<style scoped>\n",
       "    .dataframe tbody tr th:only-of-type {\n",
       "        vertical-align: middle;\n",
       "    }\n",
       "\n",
       "    .dataframe tbody tr th {\n",
       "        vertical-align: top;\n",
       "    }\n",
       "\n",
       "    .dataframe thead th {\n",
       "        text-align: right;\n",
       "    }\n",
       "</style>\n",
       "<table border=\"1\" class=\"dataframe\">\n",
       "  <thead>\n",
       "    <tr style=\"text-align: right;\">\n",
       "      <th></th>\n",
       "      <th>status</th>\n",
       "      <th>baseAsset</th>\n",
       "      <th>baseAssetPrecision</th>\n",
       "      <th>quoteAsset</th>\n",
       "      <th>quotePrecision</th>\n",
       "      <th>quoteAssetPrecision</th>\n",
       "      <th>baseCommissionPrecision</th>\n",
       "      <th>quoteCommissionPrecision</th>\n",
       "      <th>orderTypes</th>\n",
       "      <th>icebergAllowed</th>\n",
       "      <th>ocoAllowed</th>\n",
       "      <th>quoteOrderQtyMarketAllowed</th>\n",
       "      <th>allowTrailingStop</th>\n",
       "      <th>isSpotTradingAllowed</th>\n",
       "      <th>isMarginTradingAllowed</th>\n",
       "      <th>filters</th>\n",
       "      <th>permissions</th>\n",
       "    </tr>\n",
       "    <tr>\n",
       "      <th>symbol</th>\n",
       "      <th></th>\n",
       "      <th></th>\n",
       "      <th></th>\n",
       "      <th></th>\n",
       "      <th></th>\n",
       "      <th></th>\n",
       "      <th></th>\n",
       "      <th></th>\n",
       "      <th></th>\n",
       "      <th></th>\n",
       "      <th></th>\n",
       "      <th></th>\n",
       "      <th></th>\n",
       "      <th></th>\n",
       "      <th></th>\n",
       "      <th></th>\n",
       "      <th></th>\n",
       "    </tr>\n",
       "  </thead>\n",
       "  <tbody>\n",
       "    <tr>\n",
       "      <th>ETHBTC</th>\n",
       "      <td>TRADING</td>\n",
       "      <td>ETH</td>\n",
       "      <td>8</td>\n",
       "      <td>BTC</td>\n",
       "      <td>8</td>\n",
       "      <td>8</td>\n",
       "      <td>8</td>\n",
       "      <td>8</td>\n",
       "      <td>['LIMIT', 'LIMIT_MAKER', 'MARKET', 'STOP_LOSS_...</td>\n",
       "      <td>True</td>\n",
       "      <td>True</td>\n",
       "      <td>True</td>\n",
       "      <td>True</td>\n",
       "      <td>True</td>\n",
       "      <td>True</td>\n",
       "      <td>[{'filterType': 'PRICE_FILTER', 'minPrice': '0...</td>\n",
       "      <td>['SPOT', 'MARGIN']</td>\n",
       "    </tr>\n",
       "    <tr>\n",
       "      <th>LTCBTC</th>\n",
       "      <td>TRADING</td>\n",
       "      <td>LTC</td>\n",
       "      <td>8</td>\n",
       "      <td>BTC</td>\n",
       "      <td>8</td>\n",
       "      <td>8</td>\n",
       "      <td>8</td>\n",
       "      <td>8</td>\n",
       "      <td>['LIMIT', 'LIMIT_MAKER', 'MARKET', 'STOP_LOSS_...</td>\n",
       "      <td>True</td>\n",
       "      <td>True</td>\n",
       "      <td>True</td>\n",
       "      <td>True</td>\n",
       "      <td>True</td>\n",
       "      <td>True</td>\n",
       "      <td>[{'filterType': 'PRICE_FILTER', 'minPrice': '0...</td>\n",
       "      <td>['SPOT', 'MARGIN']</td>\n",
       "    </tr>\n",
       "    <tr>\n",
       "      <th>BNBBTC</th>\n",
       "      <td>TRADING</td>\n",
       "      <td>BNB</td>\n",
       "      <td>8</td>\n",
       "      <td>BTC</td>\n",
       "      <td>8</td>\n",
       "      <td>8</td>\n",
       "      <td>8</td>\n",
       "      <td>8</td>\n",
       "      <td>['LIMIT', 'LIMIT_MAKER', 'MARKET', 'STOP_LOSS_...</td>\n",
       "      <td>True</td>\n",
       "      <td>True</td>\n",
       "      <td>True</td>\n",
       "      <td>True</td>\n",
       "      <td>True</td>\n",
       "      <td>True</td>\n",
       "      <td>[{'filterType': 'PRICE_FILTER', 'minPrice': '0...</td>\n",
       "      <td>['SPOT', 'MARGIN']</td>\n",
       "    </tr>\n",
       "    <tr>\n",
       "      <th>NEOBTC</th>\n",
       "      <td>TRADING</td>\n",
       "      <td>NEO</td>\n",
       "      <td>8</td>\n",
       "      <td>BTC</td>\n",
       "      <td>8</td>\n",
       "      <td>8</td>\n",
       "      <td>8</td>\n",
       "      <td>8</td>\n",
       "      <td>['LIMIT', 'LIMIT_MAKER', 'MARKET', 'STOP_LOSS_...</td>\n",
       "      <td>True</td>\n",
       "      <td>True</td>\n",
       "      <td>True</td>\n",
       "      <td>True</td>\n",
       "      <td>True</td>\n",
       "      <td>True</td>\n",
       "      <td>[{'filterType': 'PRICE_FILTER', 'minPrice': '0...</td>\n",
       "      <td>['SPOT', 'MARGIN']</td>\n",
       "    </tr>\n",
       "    <tr>\n",
       "      <th>QTUMETH</th>\n",
       "      <td>TRADING</td>\n",
       "      <td>QTUM</td>\n",
       "      <td>8</td>\n",
       "      <td>ETH</td>\n",
       "      <td>8</td>\n",
       "      <td>8</td>\n",
       "      <td>8</td>\n",
       "      <td>8</td>\n",
       "      <td>['LIMIT', 'LIMIT_MAKER', 'MARKET', 'STOP_LOSS_...</td>\n",
       "      <td>True</td>\n",
       "      <td>True</td>\n",
       "      <td>True</td>\n",
       "      <td>True</td>\n",
       "      <td>True</td>\n",
       "      <td>False</td>\n",
       "      <td>[{'filterType': 'PRICE_FILTER', 'minPrice': '0...</td>\n",
       "      <td>['SPOT']</td>\n",
       "    </tr>\n",
       "  </tbody>\n",
       "</table>\n",
       "</div>"
      ],
      "text/plain": [
       "          status baseAsset  baseAssetPrecision quoteAsset  quotePrecision  \\\n",
       "symbol                                                                      \n",
       "ETHBTC   TRADING       ETH                   8        BTC               8   \n",
       "LTCBTC   TRADING       LTC                   8        BTC               8   \n",
       "BNBBTC   TRADING       BNB                   8        BTC               8   \n",
       "NEOBTC   TRADING       NEO                   8        BTC               8   \n",
       "QTUMETH  TRADING      QTUM                   8        ETH               8   \n",
       "\n",
       "         quoteAssetPrecision  baseCommissionPrecision  \\\n",
       "symbol                                                  \n",
       "ETHBTC                     8                        8   \n",
       "LTCBTC                     8                        8   \n",
       "BNBBTC                     8                        8   \n",
       "NEOBTC                     8                        8   \n",
       "QTUMETH                    8                        8   \n",
       "\n",
       "         quoteCommissionPrecision  \\\n",
       "symbol                              \n",
       "ETHBTC                          8   \n",
       "LTCBTC                          8   \n",
       "BNBBTC                          8   \n",
       "NEOBTC                          8   \n",
       "QTUMETH                         8   \n",
       "\n",
       "                                                orderTypes  icebergAllowed  \\\n",
       "symbol                                                                       \n",
       "ETHBTC   ['LIMIT', 'LIMIT_MAKER', 'MARKET', 'STOP_LOSS_...            True   \n",
       "LTCBTC   ['LIMIT', 'LIMIT_MAKER', 'MARKET', 'STOP_LOSS_...            True   \n",
       "BNBBTC   ['LIMIT', 'LIMIT_MAKER', 'MARKET', 'STOP_LOSS_...            True   \n",
       "NEOBTC   ['LIMIT', 'LIMIT_MAKER', 'MARKET', 'STOP_LOSS_...            True   \n",
       "QTUMETH  ['LIMIT', 'LIMIT_MAKER', 'MARKET', 'STOP_LOSS_...            True   \n",
       "\n",
       "         ocoAllowed  quoteOrderQtyMarketAllowed  allowTrailingStop  \\\n",
       "symbol                                                               \n",
       "ETHBTC         True                        True               True   \n",
       "LTCBTC         True                        True               True   \n",
       "BNBBTC         True                        True               True   \n",
       "NEOBTC         True                        True               True   \n",
       "QTUMETH        True                        True               True   \n",
       "\n",
       "         isSpotTradingAllowed  isMarginTradingAllowed  \\\n",
       "symbol                                                  \n",
       "ETHBTC                   True                    True   \n",
       "LTCBTC                   True                    True   \n",
       "BNBBTC                   True                    True   \n",
       "NEOBTC                   True                    True   \n",
       "QTUMETH                  True                   False   \n",
       "\n",
       "                                                   filters         permissions  \n",
       "symbol                                                                          \n",
       "ETHBTC   [{'filterType': 'PRICE_FILTER', 'minPrice': '0...  ['SPOT', 'MARGIN']  \n",
       "LTCBTC   [{'filterType': 'PRICE_FILTER', 'minPrice': '0...  ['SPOT', 'MARGIN']  \n",
       "BNBBTC   [{'filterType': 'PRICE_FILTER', 'minPrice': '0...  ['SPOT', 'MARGIN']  \n",
       "NEOBTC   [{'filterType': 'PRICE_FILTER', 'minPrice': '0...  ['SPOT', 'MARGIN']  \n",
       "QTUMETH  [{'filterType': 'PRICE_FILTER', 'minPrice': '0...            ['SPOT']  "
      ]
     },
     "execution_count": 4,
     "metadata": {},
     "output_type": "execute_result"
    }
   ],
   "source": [
    "exchange_info = pd.read_csv(\"../data/exchange/exchangeInfo.csv\", index_col=[0])\n",
    "exchange_info.head()"
   ]
  },
  {
   "cell_type": "code",
   "execution_count": 5,
   "id": "04061cb6-6c47-495e-a2f1-24490ba3a868",
   "metadata": {},
   "outputs": [
    {
     "data": {
      "text/plain": [
       "506"
      ]
     },
     "execution_count": 5,
     "metadata": {},
     "output_type": "execute_result"
    }
   ],
   "source": [
    "available_assets = np.unique(np.append(exchange_info.baseAsset.values, exchange_info.quoteAsset.values))\n",
    "len(available_assets)"
   ]
  },
  {
   "cell_type": "code",
   "execution_count": 7,
   "id": "6061b6ba-4c2e-4dc2-9a8c-a7d8f609995a",
   "metadata": {},
   "outputs": [],
   "source": [
    "json_data = {\"nodes\": [{\"id\": x, \"group\": 1} for x in available_assets],\n",
    "            \"links\": [{\"source\": row[\"quoteAsset\"], \"target\": row[\"baseAsset\"], \"value\": 1} for i, row in exchange_info.iterrows()]}\n"
   ]
  },
  {
   "cell_type": "code",
   "execution_count": 8,
   "id": "32213496-b2f2-4d45-a2d8-8b4c3897b9e7",
   "metadata": {},
   "outputs": [],
   "source": [
    "with open('../crypto_market_network/crypto_market.json', 'w') as f:\n",
    "    json.dump(json_data, f)"
   ]
  },
  {
   "cell_type": "code",
   "execution_count": 9,
   "id": "e4e9924d-3a93-42a7-9c11-aa5df921ee68",
   "metadata": {},
   "outputs": [],
   "source": [
    "crypto_graph = {k: set() for k in available_assets}\n",
    "for i, row in exchange_info.iterrows():\n",
    "    crypto_graph[row['quoteAsset']].add(row['baseAsset'])"
   ]
  },
  {
   "cell_type": "code",
   "execution_count": 32,
   "id": "e06cc8f8-dc61-489e-ab88-b690f2bee2d6",
   "metadata": {},
   "outputs": [],
   "source": [
    "arbitrage_paths = {}\n",
    "def find_arbitrage_paths(graph, start, current_path=[]):\n",
    "    global arbitrage_paths\n",
    "    if start not in arbitrage_paths:\n",
    "        arbitrage_paths[start] = []\n",
    "    \n",
    "    current_node = graph[start] if len(current_path)==0 else graph[current_path[-1]]\n",
    "    if len(current_node)==0:\n",
    "        return None\n",
    "    if start in current_node:\n",
    "        arbitrage_paths[start] += [current_path + [start]]\n",
    "        return None\n",
    "    for future_node in current_node:\n",
    "        if future_node not in current_path:\n",
    "            find_arbitrage_paths(graph, start, current_path + [future_node])\n",
    "    return None "
   ]
  },
  {
   "cell_type": "code",
   "execution_count": 27,
   "id": "099904ec-92cc-4b7e-8656-4b21e51b405c",
   "metadata": {},
   "outputs": [],
   "source": [
    "def find_all_paths(graph, start, end):\n",
    "    paths = []\n",
    "    def _find_all_paths(graph, start, end, current_path=[]):\n",
    "        nonlocal paths\n",
    "        current_node = graph[start] if len(current_path)==0 else graph[current_path[-1]]\n",
    "        if len(current_node)==0:\n",
    "            return None\n",
    "        if end in current_node:\n",
    "            paths += [current_path + [end]]\n",
    "            return None\n",
    "        for future_node in current_node:\n",
    "            if future_node not in current_path:\n",
    "                _find_all_paths(graph, future_node, end, current_path + [future_node])\n",
    "        return None\n",
    "    _find_all_paths(graph, start, end)\n",
    "    paths = [[start] + x for x in paths]\n",
    "    return paths"
   ]
  },
  {
   "cell_type": "code",
   "execution_count": 28,
   "id": "90652cf9-9d5b-4abd-8238-48187a926b3d",
   "metadata": {},
   "outputs": [
    {
     "data": {
      "text/plain": [
       "[['ETH', 'PAX', 'BTC'],\n",
       " ['ETH', 'TUSD', 'BTC'],\n",
       " ['ETH', 'BNB', 'PAX', 'BTC'],\n",
       " ['ETH', 'BNB', 'TUSD', 'BTC'],\n",
       " ['ETH', 'BNB', 'DAI', 'BTC'],\n",
       " ['ETH', 'BNB', 'USDC', 'BTC']]"
      ]
     },
     "execution_count": 28,
     "metadata": {},
     "output_type": "execute_result"
    }
   ],
   "source": [
    "find_all_paths(crypto_graph, 'ETH', 'BTC')"
   ]
  },
  {
   "cell_type": "code",
   "execution_count": 30,
   "id": "ff5ecf2b-10e5-48a1-a7be-154e24f97784",
   "metadata": {},
   "outputs": [
    {
     "data": {
      "text/plain": [
       "[['BTC', 'ETH']]"
      ]
     },
     "execution_count": 30,
     "metadata": {},
     "output_type": "execute_result"
    }
   ],
   "source": [
    "find_all_paths(crypto_graph, 'BTC', 'ETH')"
   ]
  },
  {
   "cell_type": "code",
   "execution_count": 33,
   "id": "fdebdae4-4766-4ee1-9f9d-bd3fae8b874d",
   "metadata": {},
   "outputs": [],
   "source": [
    "find_arbitrage_paths(crypto_graph, 'BTC')"
   ]
  },
  {
   "cell_type": "code",
   "execution_count": 34,
   "id": "6dfab238-2aa1-4bd7-aa7b-eeffe3fdc49f",
   "metadata": {},
   "outputs": [
    {
     "data": {
      "text/plain": [
       "{'BTC': [['ETH', 'PAX', 'BTC'],\n",
       "  ['ETH', 'TUSD', 'BTC'],\n",
       "  ['ETH', 'BNB', 'PAX', 'BTC'],\n",
       "  ['ETH', 'BNB', 'TUSD', 'BTC'],\n",
       "  ['ETH', 'BNB', 'DAI', 'BTC'],\n",
       "  ['ETH', 'BNB', 'USDC', 'BTC'],\n",
       "  ['UST', 'ETH', 'PAX', 'BTC'],\n",
       "  ['UST', 'ETH', 'TUSD', 'BTC'],\n",
       "  ['UST', 'ETH', 'BNB', 'PAX', 'BTC'],\n",
       "  ['UST', 'ETH', 'BNB', 'TUSD', 'BTC'],\n",
       "  ['UST', 'ETH', 'BNB', 'DAI', 'BTC'],\n",
       "  ['UST', 'ETH', 'BNB', 'USDC', 'BTC'],\n",
       "  ['UST', 'BNB', 'PAX', 'BTC'],\n",
       "  ['UST', 'BNB', 'TUSD', 'BTC'],\n",
       "  ['UST', 'BNB', 'DAI', 'BTC'],\n",
       "  ['UST', 'BNB', 'USDC', 'BTC'],\n",
       "  ['BNB', 'PAX', 'BTC'],\n",
       "  ['BNB', 'TUSD', 'BTC'],\n",
       "  ['BNB', 'DAI', 'BTC'],\n",
       "  ['BNB', 'USDC', 'BTC'],\n",
       "  ['TUSD', 'BTC'],\n",
       "  ['PAX', 'BTC'],\n",
       "  ['DAI', 'BTC']]}"
      ]
     },
     "execution_count": 34,
     "metadata": {},
     "output_type": "execute_result"
    }
   ],
   "source": [
    "arbitrage_paths"
   ]
  },
  {
   "cell_type": "code",
   "execution_count": 8,
   "id": "c7c0e1b6-b4e4-4fa3-84db-4b0a2b32e2e7",
   "metadata": {},
   "outputs": [],
   "source": [
    "for coin in available_assets:\n",
    "    find_arbitrage_paths(crypto_graph, coin)\n",
    "    arbitrage_paths[coin] = sorted(arbitrage_paths[coin], key=len)"
   ]
  },
  {
   "cell_type": "code",
   "execution_count": 11,
   "id": "fa9e09f0-656f-4a02-9672-ca214d819694",
   "metadata": {},
   "outputs": [],
   "source": [
    "for coin in available_assets:\n",
    "    arbitrage_paths[coin] = sorted(arbitrage_paths[coin], key=len)"
   ]
  },
  {
   "cell_type": "code",
   "execution_count": 13,
   "id": "639c57e1-5099-4d58-81a3-db8aefc3a81f",
   "metadata": {},
   "outputs": [],
   "source": [
    "with open('../data/exchange/arbitrage_paths.json', 'w') as f:\n",
    "    json.dump(arbitrage_paths, f)"
   ]
  },
  {
   "cell_type": "code",
   "execution_count": 12,
   "id": "4a8b71b1-f52b-4615-802e-17022d7485fd",
   "metadata": {},
   "outputs": [
    {
     "data": {
      "text/plain": [
       "[['TUSD', 'BTC'],\n",
       " ['PAX', 'BTC'],\n",
       " ['DAI', 'BTC'],\n",
       " ['ETH', 'TUSD', 'BTC'],\n",
       " ['ETH', 'PAX', 'BTC'],\n",
       " ['BNB', 'TUSD', 'BTC'],\n",
       " ['BNB', 'PAX', 'BTC'],\n",
       " ['BNB', 'DAI', 'BTC'],\n",
       " ['BNB', 'USDC', 'BTC'],\n",
       " ['UST', 'ETH', 'TUSD', 'BTC'],\n",
       " ['UST', 'ETH', 'PAX', 'BTC'],\n",
       " ['UST', 'BNB', 'TUSD', 'BTC'],\n",
       " ['UST', 'BNB', 'PAX', 'BTC'],\n",
       " ['UST', 'BNB', 'DAI', 'BTC'],\n",
       " ['UST', 'BNB', 'USDC', 'BTC'],\n",
       " ['ETH', 'BNB', 'TUSD', 'BTC'],\n",
       " ['ETH', 'BNB', 'PAX', 'BTC'],\n",
       " ['ETH', 'BNB', 'DAI', 'BTC'],\n",
       " ['ETH', 'BNB', 'USDC', 'BTC'],\n",
       " ['UST', 'ETH', 'BNB', 'TUSD', 'BTC'],\n",
       " ['UST', 'ETH', 'BNB', 'PAX', 'BTC'],\n",
       " ['UST', 'ETH', 'BNB', 'DAI', 'BTC'],\n",
       " ['UST', 'ETH', 'BNB', 'USDC', 'BTC']]"
      ]
     },
     "execution_count": 12,
     "metadata": {},
     "output_type": "execute_result"
    }
   ],
   "source": [
    "arbitrage_paths['BTC']"
   ]
  }
 ],
 "metadata": {
  "kernelspec": {
   "display_name": "Python 3 (ipykernel)",
   "language": "python",
   "name": "python3"
  },
  "language_info": {
   "codemirror_mode": {
    "name": "ipython",
    "version": 3
   },
   "file_extension": ".py",
   "mimetype": "text/x-python",
   "name": "python",
   "nbconvert_exporter": "python",
   "pygments_lexer": "ipython3",
   "version": "3.9.7"
  }
 },
 "nbformat": 4,
 "nbformat_minor": 5
}
